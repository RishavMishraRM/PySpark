{
 "cells": [
  {
   "cell_type": "markdown",
   "id": "961cc9b1",
   "metadata": {},
   "source": [
    "###### Dropping Columns\n",
    "###### Dropping Rows\n",
    "###### Various Parameter In Dropping functionalities\n",
    "###### Handling Missing values by Mean, Median And Mode"
   ]
  },
  {
   "cell_type": "code",
   "execution_count": 1,
   "id": "6a09bbea",
   "metadata": {},
   "outputs": [],
   "source": [
    "from pyspark.sql import SparkSession"
   ]
  },
  {
   "cell_type": "code",
   "execution_count": 2,
   "id": "e6ead0d4",
   "metadata": {},
   "outputs": [],
   "source": [
    "spark=SparkSession.builder.appName('Practice').getOrCreate()"
   ]
  },
  {
   "cell_type": "code",
   "execution_count": 3,
   "id": "73b06c05",
   "metadata": {},
   "outputs": [],
   "source": [
    "df_pyspark=spark.read.csv('test3.csv', header=True, inferSchema=True)"
   ]
  },
  {
   "cell_type": "code",
   "execution_count": 4,
   "id": "96aa5297",
   "metadata": {},
   "outputs": [
    {
     "name": "stdout",
     "output_type": "stream",
     "text": [
      "+------+----+----------+------+\n",
      "|  Name| Age|Experience|Salary|\n",
      "+------+----+----------+------+\n",
      "|Rishav|  21|         3| 30000|\n",
      "|Subham|  22|         2| 25000|\n",
      "|Pankaj|  31|        10| 20000|\n",
      "|Kundan|  28|         5| 15000|\n",
      "| Niraj|  24|         2| 10000|\n",
      "| Ritik|null|      null|400000|\n",
      "|  null|  34|        10| 52000|\n",
      "|  null|  36|      null|  null|\n",
      "+------+----+----------+------+\n",
      "\n"
     ]
    }
   ],
   "source": [
    "df_pyspark.show()"
   ]
  },
  {
   "cell_type": "code",
   "execution_count": 5,
   "id": "432865ef",
   "metadata": {},
   "outputs": [
    {
     "name": "stdout",
     "output_type": "stream",
     "text": [
      "+----+----------+------+\n",
      "| Age|Experience|Salary|\n",
      "+----+----------+------+\n",
      "|  21|         3| 30000|\n",
      "|  22|         2| 25000|\n",
      "|  31|        10| 20000|\n",
      "|  28|         5| 15000|\n",
      "|  24|         2| 10000|\n",
      "|null|      null|400000|\n",
      "|  34|        10| 52000|\n",
      "|  36|      null|  null|\n",
      "+----+----------+------+\n",
      "\n"
     ]
    }
   ],
   "source": [
    "##drop the columns\n",
    "df_pyspark.drop('Name').show()"
   ]
  },
  {
   "cell_type": "code",
   "execution_count": 6,
   "id": "b060837a",
   "metadata": {},
   "outputs": [
    {
     "name": "stdout",
     "output_type": "stream",
     "text": [
      "+------+----+----------+------+\n",
      "|  Name| Age|Experience|Salary|\n",
      "+------+----+----------+------+\n",
      "|Rishav|  21|         3| 30000|\n",
      "|Subham|  22|         2| 25000|\n",
      "|Pankaj|  31|        10| 20000|\n",
      "|Kundan|  28|         5| 15000|\n",
      "| Niraj|  24|         2| 10000|\n",
      "| Ritik|null|      null|400000|\n",
      "|  null|  34|        10| 52000|\n",
      "|  null|  36|      null|  null|\n",
      "+------+----+----------+------+\n",
      "\n"
     ]
    }
   ],
   "source": [
    "df_pyspark.show()"
   ]
  },
  {
   "cell_type": "code",
   "execution_count": 7,
   "id": "60bad994",
   "metadata": {},
   "outputs": [
    {
     "name": "stdout",
     "output_type": "stream",
     "text": [
      "+------+---+----------+------+\n",
      "|  Name|Age|Experience|Salary|\n",
      "+------+---+----------+------+\n",
      "|Rishav| 21|         3| 30000|\n",
      "|Subham| 22|         2| 25000|\n",
      "|Pankaj| 31|        10| 20000|\n",
      "|Kundan| 28|         5| 15000|\n",
      "| Niraj| 24|         2| 10000|\n",
      "+------+---+----------+------+\n",
      "\n"
     ]
    }
   ],
   "source": [
    "df_pyspark.na.drop().show()"
   ]
  },
  {
   "cell_type": "code",
   "execution_count": 8,
   "id": "39c20f10",
   "metadata": {},
   "outputs": [
    {
     "name": "stdout",
     "output_type": "stream",
     "text": [
      "+------+---+----------+------+\n",
      "|  Name|Age|Experience|Salary|\n",
      "+------+---+----------+------+\n",
      "|Rishav| 21|         3| 30000|\n",
      "|Subham| 22|         2| 25000|\n",
      "|Pankaj| 31|        10| 20000|\n",
      "|Kundan| 28|         5| 15000|\n",
      "| Niraj| 24|         2| 10000|\n",
      "+------+---+----------+------+\n",
      "\n"
     ]
    }
   ],
   "source": [
    "### any==how\n",
    "df_pyspark.na.drop(how=\"any\").show()"
   ]
  },
  {
   "cell_type": "code",
   "execution_count": 9,
   "id": "00c8f9e9",
   "metadata": {},
   "outputs": [
    {
     "name": "stdout",
     "output_type": "stream",
     "text": [
      "+------+----+----------+------+\n",
      "|  Name| Age|Experience|Salary|\n",
      "+------+----+----------+------+\n",
      "|Rishav|  21|         3| 30000|\n",
      "|Subham|  22|         2| 25000|\n",
      "|Pankaj|  31|        10| 20000|\n",
      "|Kundan|  28|         5| 15000|\n",
      "| Niraj|  24|         2| 10000|\n",
      "| Ritik|null|      null|400000|\n",
      "|  null|  34|        10| 52000|\n",
      "|  null|  36|      null|  null|\n",
      "+------+----+----------+------+\n",
      "\n"
     ]
    }
   ],
   "source": [
    "### all==how drop all with null\n",
    "df_pyspark.na.drop(how=\"all\").show()"
   ]
  },
  {
   "cell_type": "code",
   "execution_count": 10,
   "id": "1c90b048",
   "metadata": {},
   "outputs": [
    {
     "name": "stdout",
     "output_type": "stream",
     "text": [
      "+------+---+----------+------+\n",
      "|  Name|Age|Experience|Salary|\n",
      "+------+---+----------+------+\n",
      "|Rishav| 21|         3| 30000|\n",
      "|Subham| 22|         2| 25000|\n",
      "|Pankaj| 31|        10| 20000|\n",
      "|Kundan| 28|         5| 15000|\n",
      "| Niraj| 24|         2| 10000|\n",
      "|  null| 34|        10| 52000|\n",
      "+------+---+----------+------+\n",
      "\n"
     ]
    }
   ],
   "source": [
    "##threshold in how - no. of non null-value\n",
    "df_pyspark.na.drop(how=\"any\",thresh=3).show()"
   ]
  },
  {
   "cell_type": "code",
   "execution_count": 11,
   "id": "cf32171c",
   "metadata": {},
   "outputs": [
    {
     "name": "stdout",
     "output_type": "stream",
     "text": [
      "+------+---+----------+------+\n",
      "|  Name|Age|Experience|Salary|\n",
      "+------+---+----------+------+\n",
      "|Rishav| 21|         3| 30000|\n",
      "|Subham| 22|         2| 25000|\n",
      "|Pankaj| 31|        10| 20000|\n",
      "|Kundan| 28|         5| 15000|\n",
      "| Niraj| 24|         2| 10000|\n",
      "|  null| 34|        10| 52000|\n",
      "|  null| 36|      null|  null|\n",
      "+------+---+----------+------+\n",
      "\n"
     ]
    }
   ],
   "source": [
    "##Subset\n",
    "df_pyspark.na.drop(how=\"any\",subset=['Age']).show()"
   ]
  },
  {
   "cell_type": "code",
   "execution_count": 12,
   "id": "6121a623",
   "metadata": {},
   "outputs": [
    {
     "name": "stdout",
     "output_type": "stream",
     "text": [
      "+--------------+----+----------+------+\n",
      "|          Name| Age|Experience|Salary|\n",
      "+--------------+----+----------+------+\n",
      "|        Rishav|  21|         3| 30000|\n",
      "|        Subham|  22|         2| 25000|\n",
      "|        Pankaj|  31|        10| 20000|\n",
      "|        Kundan|  28|         5| 15000|\n",
      "|         Niraj|  24|         2| 10000|\n",
      "|         Ritik|null|      null|400000|\n",
      "|Missing Values|  34|        10| 52000|\n",
      "|Missing Values|  36|      null|  null|\n",
      "+--------------+----+----------+------+\n",
      "\n"
     ]
    }
   ],
   "source": [
    "df_pyspark.na.fill('Missing Values').show()"
   ]
  },
  {
   "cell_type": "code",
   "execution_count": 13,
   "id": "569e0869",
   "metadata": {},
   "outputs": [
    {
     "name": "stdout",
     "output_type": "stream",
     "text": [
      "+------+----+----------+------+\n",
      "|  Name| Age|Experience|Salary|\n",
      "+------+----+----------+------+\n",
      "|Rishav|  21|         3| 30000|\n",
      "|Subham|  22|         2| 25000|\n",
      "|Pankaj|  31|        10| 20000|\n",
      "|Kundan|  28|         5| 15000|\n",
      "| Niraj|  24|         2| 10000|\n",
      "| Ritik|null|      null|400000|\n",
      "|  null|  34|        10| 52000|\n",
      "|  null|  36|      null|  null|\n",
      "+------+----+----------+------+\n",
      "\n"
     ]
    }
   ],
   "source": [
    "### Filling the Missing Value\n",
    "df_pyspark.na.fill(\"Missing Values\",['Experience', 'Age']).show()"
   ]
  },
  {
   "cell_type": "code",
   "execution_count": 14,
   "id": "3383cc32",
   "metadata": {},
   "outputs": [
    {
     "name": "stdout",
     "output_type": "stream",
     "text": [
      "+------+----+----------+------+\n",
      "|  Name| Age|Experience|Salary|\n",
      "+------+----+----------+------+\n",
      "|Rishav|  21|         3| 30000|\n",
      "|Subham|  22|         2| 25000|\n",
      "|Pankaj|  31|        10| 20000|\n",
      "|Kundan|  28|         5| 15000|\n",
      "| Niraj|  24|         2| 10000|\n",
      "| Ritik|null|      null|400000|\n",
      "|  null|  34|        10| 52000|\n",
      "|  null|  36|      null|  null|\n",
      "+------+----+----------+------+\n",
      "\n"
     ]
    }
   ],
   "source": [
    "df_pyspark.show()"
   ]
  },
  {
   "cell_type": "code",
   "execution_count": 15,
   "id": "c41dd7b6",
   "metadata": {},
   "outputs": [
    {
     "name": "stdout",
     "output_type": "stream",
     "text": [
      "root\n",
      " |-- Name: string (nullable = true)\n",
      " |-- Age: integer (nullable = true)\n",
      " |-- Experience: integer (nullable = true)\n",
      " |-- Salary: integer (nullable = true)\n",
      "\n"
     ]
    }
   ],
   "source": [
    "df_pyspark.printSchema()"
   ]
  },
  {
   "cell_type": "markdown",
   "id": "f71454dc",
   "metadata": {},
   "source": [
    "###### Median"
   ]
  },
  {
   "cell_type": "code",
   "execution_count": 16,
   "id": "00573207",
   "metadata": {},
   "outputs": [],
   "source": [
    "from pyspark.ml.feature import Imputer\n",
    "\n",
    "imputer = Imputer(\n",
    "    inputCols=['Age', 'Experience', 'Salary'], \n",
    "    outputCols=[\"{}_imputed\".format(c) for c in ['age', 'Experience', 'Salary']]\n",
    "    ).setStrategy(\"median\")"
   ]
  },
  {
   "cell_type": "code",
   "execution_count": 17,
   "id": "6305e3f1",
   "metadata": {},
   "outputs": [
    {
     "name": "stdout",
     "output_type": "stream",
     "text": [
      "+------+----+----------+------+-----------+------------------+--------------+\n",
      "|  Name| Age|Experience|Salary|age_imputed|Experience_imputed|Salary_imputed|\n",
      "+------+----+----------+------+-----------+------------------+--------------+\n",
      "|Rishav|  21|         3| 30000|         21|                 3|         30000|\n",
      "|Subham|  22|         2| 25000|         22|                 2|         25000|\n",
      "|Pankaj|  31|        10| 20000|         31|                10|         20000|\n",
      "|Kundan|  28|         5| 15000|         28|                 5|         15000|\n",
      "| Niraj|  24|         2| 10000|         24|                 2|         10000|\n",
      "| Ritik|null|      null|400000|         28|                 3|        400000|\n",
      "|  null|  34|        10| 52000|         34|                10|         52000|\n",
      "|  null|  36|      null|  null|         36|                 3|         25000|\n",
      "+------+----+----------+------+-----------+------------------+--------------+\n",
      "\n"
     ]
    }
   ],
   "source": [
    "# Add imputation cols to df\n",
    "imputer.fit(df_pyspark).transform(df_pyspark).show()"
   ]
  },
  {
   "cell_type": "markdown",
   "id": "10bed4fe",
   "metadata": {},
   "source": [
    "###### Mean"
   ]
  },
  {
   "cell_type": "code",
   "execution_count": 18,
   "id": "355368f4",
   "metadata": {},
   "outputs": [],
   "source": [
    "from pyspark.ml.feature import Imputer\n",
    "\n",
    "imputer = Imputer(\n",
    "    inputCols=['Age', 'Experience', 'Salary'], \n",
    "    outputCols=[\"{}_imputed\".format(c) for c in ['age', 'Experience', 'Salary']]\n",
    "    ).setStrategy(\"mean\")"
   ]
  },
  {
   "cell_type": "code",
   "execution_count": 19,
   "id": "378f822d",
   "metadata": {},
   "outputs": [
    {
     "name": "stdout",
     "output_type": "stream",
     "text": [
      "+------+----+----------+------+-----------+------------------+--------------+\n",
      "|  Name| Age|Experience|Salary|age_imputed|Experience_imputed|Salary_imputed|\n",
      "+------+----+----------+------+-----------+------------------+--------------+\n",
      "|Rishav|  21|         3| 30000|         21|                 3|         30000|\n",
      "|Subham|  22|         2| 25000|         22|                 2|         25000|\n",
      "|Pankaj|  31|        10| 20000|         31|                10|         20000|\n",
      "|Kundan|  28|         5| 15000|         28|                 5|         15000|\n",
      "| Niraj|  24|         2| 10000|         24|                 2|         10000|\n",
      "| Ritik|null|      null|400000|         28|                 5|        400000|\n",
      "|  null|  34|        10| 52000|         34|                10|         52000|\n",
      "|  null|  36|      null|  null|         36|                 5|         78857|\n",
      "+------+----+----------+------+-----------+------------------+--------------+\n",
      "\n"
     ]
    }
   ],
   "source": [
    "# Add imputation cols to df\n",
    "imputer.fit(df_pyspark).transform(df_pyspark).show()"
   ]
  },
  {
   "cell_type": "code",
   "execution_count": null,
   "id": "c1294dc6",
   "metadata": {},
   "outputs": [],
   "source": []
  }
 ],
 "metadata": {
  "kernelspec": {
   "display_name": "Python 3",
   "language": "python",
   "name": "python3"
  },
  "language_info": {
   "codemirror_mode": {
    "name": "ipython",
    "version": 3
   },
   "file_extension": ".py",
   "mimetype": "text/x-python",
   "name": "python",
   "nbconvert_exporter": "python",
   "pygments_lexer": "ipython3",
   "version": "3.8.8"
  }
 },
 "nbformat": 4,
 "nbformat_minor": 5
}
